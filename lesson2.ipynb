{
  "nbformat": 4,
  "nbformat_minor": 0,
  "metadata": {
    "colab": {
      "provenance": [],
      "authorship_tag": "ABX9TyNiW9PNDp1MO3DVND5dHSVH",
      "include_colab_link": true
    },
    "kernelspec": {
      "name": "python3",
      "display_name": "Python 3"
    },
    "language_info": {
      "name": "python"
    }
  },
  "cells": [
    {
      "cell_type": "markdown",
      "metadata": {
        "id": "view-in-github",
        "colab_type": "text"
      },
      "source": [
        "<a href=\"https://colab.research.google.com/github/komal-shahzada/python/blob/main/lesson2.ipynb\" target=\"_parent\"><img src=\"https://colab.research.google.com/assets/colab-badge.svg\" alt=\"Open In Colab\"/></a>"
      ]
    },
    {
      "cell_type": "code",
      "execution_count": 1,
      "metadata": {
        "colab": {
          "base_uri": "https://localhost:8080/"
        },
        "id": "yHgV39FZH0LF",
        "outputId": "e27c8285-77fd-48a4-e298-c86a8a21d7fb"
      },
      "outputs": [
        {
          "output_type": "stream",
          "name": "stdout",
          "text": [
            "5\n",
            "komal\n"
          ]
        }
      ],
      "source": [
        " #variables in pythhon\n",
        " #Python has no command for declaring a variable.\n",
        "\n",
        "#A variable is created the moment you first assign a value to it.\n",
        "x = 5\n",
        "y = \"komal\"\n",
        "print(x)\n",
        "print(y)"
      ]
    },
    {
      "cell_type": "code",
      "source": [
        "x = 4       # x is of type int\n",
        "x = \"Sally\" # x is now of type str\n",
        "print(x)"
      ],
      "metadata": {
        "colab": {
          "base_uri": "https://localhost:8080/"
        },
        "id": "qH39ammoIk-D",
        "outputId": "7e1b95a3-9947-424b-a7ed-409730aad52a"
      },
      "execution_count": 2,
      "outputs": [
        {
          "output_type": "stream",
          "name": "stdout",
          "text": [
            "Sally\n"
          ]
        }
      ]
    },
    {
      "cell_type": "code",
      "source": [
        "x = str(3)    # x will be '3'\n",
        "y = int(3)    # y will be 3\n",
        "z = float(3)  # z will be 3.0"
      ],
      "metadata": {
        "id": "OrzeNoMVI3NS"
      },
      "execution_count": 3,
      "outputs": []
    },
    {
      "cell_type": "code",
      "source": [
        "x = 5\n",
        "y = \"komal\"\n",
        "z-3.5\n",
        "print(type(x))\n",
        "print(type(y))\n",
        "print(type(z))"
      ],
      "metadata": {
        "colab": {
          "base_uri": "https://localhost:8080/"
        },
        "id": "TPKPHxEEI4QK",
        "outputId": "5b839d30-c57e-402e-eccf-c34ae3a4ae0d"
      },
      "execution_count": 5,
      "outputs": [
        {
          "output_type": "stream",
          "name": "stdout",
          "text": [
            "<class 'int'>\n",
            "<class 'str'>\n",
            "<class 'float'>\n"
          ]
        }
      ]
    },
    {
      "cell_type": "code",
      "source": [
        " #String variables can be declared either by using single or double quotes, can also use tripple quetation marks:\n",
        " x = \"ayat\"\n",
        "# is the same as\n",
        "x = 'ayat'\n",
        "z=\"'ayat'\"\n",
        "print(x,y,z)"
      ],
      "metadata": {
        "colab": {
          "base_uri": "https://localhost:8080/"
        },
        "id": "EGgNS3DnJQEj",
        "outputId": "a3834f8f-f1f0-4e7b-b3cf-8fa1c7de0648"
      },
      "execution_count": 9,
      "outputs": [
        {
          "output_type": "stream",
          "name": "stdout",
          "text": [
            "ayat komal 'ayat'\n"
          ]
        }
      ]
    },
    {
      "cell_type": "code",
      "source": [
        " #Variable names are case-sensitive.\n",
        " a = 4\n",
        "A = \"Sally\"\n",
        "#A will not overwrite a\n",
        "print(a)\n",
        "print(A)"
      ],
      "metadata": {
        "colab": {
          "base_uri": "https://localhost:8080/"
        },
        "id": "KObiv9giKMow",
        "outputId": "8460da3f-d6f1-4839-ded2-f694822cfb86"
      },
      "execution_count": 11,
      "outputs": [
        {
          "output_type": "stream",
          "name": "stdout",
          "text": [
            "4\n",
            "Sally\n"
          ]
        }
      ]
    },
    {
      "cell_type": "code",
      "source": [
        " #Rules for Python variables:\n",
        "\n",
        " # A variable name must start with a letter or the underscore character\n",
        " #A variable name cannot start with a number\n",
        " #A variable name can only contain alpha-numeric characters and underscores (A-z, 0-9, and _ )\n",
        " #Variable names are case-sensitive (age, Age and AGE are three different variables)\n",
        " #A variable name cannot be any of the Python keywords\n",
        " myvar = \"ayat\"\n",
        "my_var = \"komal\"\n",
        "_my_var = \"ali\"\n",
        "myVar = \"komal\"\n",
        "MYVAR = \"kiran\"\n",
        "myvar2 = \"zainab\""
      ],
      "metadata": {
        "id": "5Ym372zNKgZV"
      },
      "execution_count": 13,
      "outputs": []
    },
    {
      "cell_type": "code",
      "source": [
        " #Python allows you to assign values to multiple variables in one line:\n",
        " x, y, z = \"Orange\", \"Banana\", \"Cherry\"\n",
        "print(x)\n",
        "print(y)\n",
        "print(z)"
      ],
      "metadata": {
        "colab": {
          "base_uri": "https://localhost:8080/"
        },
        "id": "kLG7VoQ_LyNV",
        "outputId": "3ed48998-7011-4920-f0f8-2308132d833d"
      },
      "execution_count": 15,
      "outputs": [
        {
          "output_type": "stream",
          "name": "stdout",
          "text": [
            "Orange\n",
            "Banana\n",
            "Cherry\n"
          ]
        }
      ]
    },
    {
      "cell_type": "code",
      "source": [
        "#The Python print() function is often used to output variables\n",
        "x = \"Python\"\n",
        "y = \"is\"\n",
        "z = \"awesome\"\n",
        "print(x, y, z)"
      ],
      "metadata": {
        "colab": {
          "base_uri": "https://localhost:8080/"
        },
        "id": "UdCOOZlhL5tQ",
        "outputId": "697338ee-2c89-46af-cf4c-88b19975e915"
      },
      "execution_count": 16,
      "outputs": [
        {
          "output_type": "stream",
          "name": "stdout",
          "text": [
            "Python is awesome\n"
          ]
        }
      ]
    },
    {
      "cell_type": "markdown",
      "source": [],
      "metadata": {
        "id": "j-oAcjABMPXB"
      }
    },
    {
      "cell_type": "code",
      "source": [
        "#Global variables can be used by everyone, both inside of functions and outside\n",
        "x = \"awesome\"\n",
        "\n",
        "def myfunc():\n",
        "  x = \"fantastic\"\n",
        "  print(\"Python is \" + x)\n",
        "\n",
        "myfunc()\n",
        "\n",
        "print(\"Python is \" + x)\n",
        "\n",
        "#another example\n",
        "\n",
        "def myfunc():\n",
        "  global x\n",
        "  x = \"fantastic\"\n",
        "\n",
        "myfunc()\n",
        "\n",
        "print(\"Python is \" + x)"
      ],
      "metadata": {
        "colab": {
          "base_uri": "https://localhost:8080/"
        },
        "id": "pgcNj4c0MFsX",
        "outputId": "ef1ab73d-3a21-4b61-e8e9-685ceb878900"
      },
      "execution_count": 19,
      "outputs": [
        {
          "output_type": "stream",
          "name": "stdout",
          "text": [
            "Python is fantastic\n",
            "Python is awesome\n",
            "Python is fantastic\n"
          ]
        }
      ]
    }
  ]
}